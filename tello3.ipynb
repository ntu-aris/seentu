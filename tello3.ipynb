{
 "cells": [
  {
   "cell_type": "code",
   "execution_count": 1,
   "id": "a6a9ef98-ff84-4582-8085-fe8d45b6e125",
   "metadata": {},
   "outputs": [],
   "source": [
    "# This example script demonstrates how to use Python to fly Tello in a box mission\n",
    "# This script is part of our course on Tello drone programming\n",
    "# https://learn.droneblocks.io/p/tello-drone-programming-with-python/\n",
    "\n",
    "# Import the necessary modules\n",
    "import socket\n",
    "import threading\n",
    "import time\n",
    "\n",
    "# IP and port of Tello\n",
    "tello1_address = ('192.168.10.1', 8889)\n",
    "\n",
    "# IP and port of local computer\n",
    "local1_address = ('192.168.10.2', 9010)\n",
    "\n",
    "# Create a UDP connection that we'll send the command to\n",
    "sock1 = socket.socket(socket.AF_INET, socket.SOCK_DGRAM)\n",
    "\n",
    "# Bind to the local address and port\n",
    "sock1.bind(local1_address)\n",
    "\n",
    "# Send the message to Tello and allow for a delay in seconds\n",
    "def send(message, delay):\n",
    "  # Try to send the message otherwise print the exception\n",
    "  try:\n",
    "    sock1.sendto(message.encode(), tello1_address)\n",
    "    print(\"Sending message: \" + message)\n",
    "  except Exception as e:\n",
    "    print(\"Error sending: \" + str(e))\n",
    "\n",
    "  # Delay for a user-defined period of time\n",
    "  time.sleep(delay)\n",
    "\n",
    "# Receive the message from Tello\n",
    "def receive():\n",
    "  # Continuously loop and listen for incoming messages\n",
    "  while True:\n",
    "    # Try to receive the message otherwise print the exception\n",
    "    try:\n",
    "      response1, ip_address = sock1.recvfrom(128)\n",
    "      print(\"Received message: from Tello EDU #1: \" + response1.decode(encoding='utf-8'))\n",
    "    except Exception as e:\n",
    "      # If there's an error close the socket and break out of the loop\n",
    "      sock1.close()\n",
    "      print(\"Error receiving: \" + str(e))\n",
    "      break\n",
    "# Create and start a listening thread that runs in the background\n",
    "# This utilizes our receive functions and will continuously monitor for incoming messages\n",
    "receiveThread = threading.Thread(target=receive)\n",
    "receiveThread.daemon = True\n",
    "receiveThread.start()\n"
   ]
  },
  {
   "cell_type": "code",
   "execution_count": 2,
   "id": "681537e5",
   "metadata": {},
   "outputs": [
    {
     "name": "stdout",
     "output_type": "stream",
     "text": [
      "Sending message: command\n",
      "Received message: from Tello EDU #1: ok\n"
     ]
    }
   ],
   "source": [
    "# Put Tello into command mode\n",
    "send(\"command\", 2)"
   ]
  },
  {
   "cell_type": "code",
   "execution_count": 6,
   "id": "6cba0dfd-7a86-4679-9872-7d7a130ae573",
   "metadata": {},
   "outputs": [
    {
     "name": "stdout",
     "output_type": "stream",
     "text": [
      "Sending message: takeoff\n",
      "Received message: from Tello EDU #1: ok\n",
      "Sending message: cw 90\n",
      "Received message: from Tello EDU #1: ok\n",
      "Sending message: forward 50\n",
      "Received message: from Tello EDU #1: ok\n",
      "Sending message: left 50\n",
      "Received message: from Tello EDU #1: ok\n",
      "Sending message: back 50\n",
      "Received message: from Tello EDU #1: ok\n",
      "Sending message: right 50\n",
      "Received message: from Tello EDU #1: ok\n",
      "Sending message: land\n",
      "Received message: from Tello EDU #1: ok\n",
      "Mission completed successfully!\n"
     ]
    }
   ],
   "source": [
    "# Tello uses cm units by default.\n",
    "\n",
    "# Send the takeoff command\n",
    "send(\"takeoff\", 8)\n",
    "\n",
    "# Loop and create each leg of the box\n",
    "send(\"cw \"  + str(90), 4)\n",
    "send(\"forward \"  + str(50), 4)\n",
    "send(\"left \"     + str(50), 4)\n",
    "send(\"back \"     + str(50), 4)\n",
    "send(\"right \"    + str(50), 4)\n",
    "\n",
    "# Land\n",
    "send(\"land\", 5)\n",
    "\n",
    "# Print message\n",
    "print(\"Mission completed successfully!\")"
   ]
  },
  {
   "cell_type": "code",
   "execution_count": null,
   "id": "019e3f7e-6ab9-4175-b7d3-f4e5cd767ad8",
   "metadata": {},
   "outputs": [],
   "source": [
    "# Close the socket\n",
    "sock1.close()"
   ]
  }
 ],
 "metadata": {
  "kernelspec": {
   "display_name": "Python 3 (ipykernel)",
   "language": "python",
   "name": "python3"
  },
  "language_info": {
   "codemirror_mode": {
    "name": "ipython",
    "version": 3
   },
   "file_extension": ".py",
   "mimetype": "text/x-python",
   "name": "python",
   "nbconvert_exporter": "python",
   "pygments_lexer": "ipython3",
   "version": "3.8.10"
  }
 },
 "nbformat": 4,
 "nbformat_minor": 5
}
